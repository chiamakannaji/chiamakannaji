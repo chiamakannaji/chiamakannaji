{
 "cells": [
  {
   "cell_type": "markdown",
   "metadata": {},
   "source": [
    "# Math P1 (Introduction)\n",
    "\n",
    "## Warmup\n",
    "\n",
    "Run the following lines in the cell below:\n",
    "\n",
    "```\n",
    "%matplotlib inline\n",
    "import numpy as np\n",
    "import matplotlib.pyplot as plt\n",
    "import pandas as pd\n",
    "```"
   ]
  },
  {
   "cell_type": "code",
   "execution_count": 1,
   "metadata": {},
   "outputs": [],
   "source": [
    "# imports here\n"
   ]
  },
  {
   "cell_type": "markdown",
   "metadata": {},
   "source": [
    "Warmup 1: Write a one line function using set operations to verify that two given sets have NO elements in common. \n",
    "\n",
    "```\n",
    "common_elements({1, 2, 3}, {2}) -> True\n",
    "common_elements({1, 2, 3}, {'a', 'b', 'c'}) -> False\n",
    "common_elements({1, 2, 3}, {'a', 1, 'hi!'}) -> True\n",
    "```"
   ]
  },
  {
   "cell_type": "code",
   "execution_count": 2,
   "metadata": {},
   "outputs": [],
   "source": [
    "# warmup 1\n"
   ]
  },
  {
   "cell_type": "markdown",
   "metadata": {},
   "source": [
    "## Exercise 1\n",
    "\n",
    "The following block ouputs a uniformly spaced sequence of numbers using the `linspace` function.\n",
    "\n",
    "```\n",
    "X = np.linspace(0,5,6)\n",
    "print (X)\n",
    "```\n",
    "\n",
    "The linspace function takes in 3 inputs or arguments.\n",
    "\n",
    "- The first input is the lower limit\n",
    "- The second is the upper limit\n",
    "- The third is the number of points you would like in between the chosen limits.\n",
    "\n",
    "Use the `linspace` function to generate 21 data points between `-10` and `10` and store the result as `A`."
   ]
  },
  {
   "cell_type": "code",
   "execution_count": 3,
   "metadata": {},
   "outputs": [],
   "source": [
    "# exercise 1\n"
   ]
  },
  {
   "cell_type": "markdown",
   "metadata": {},
   "source": [
    "You will be working with calculus in the following exercises.\n",
    "\n",
    "In the cell below, write the function for fprime(x) that you learned in the pre-lecture."
   ]
  },
  {
   "cell_type": "code",
   "execution_count": null,
   "metadata": {},
   "outputs": [],
   "source": [
    "# function for fprime(x)\n",
    "def fprime(x):\n",
    "    h = 1e-5\n",
    "    return (f(x+h) - f(x))/h"
   ]
  },
  {
   "cell_type": "markdown",
   "metadata": {},
   "source": [
    "## Exercise 2: 💪🏽 Calculus / Derivative 💪🏽\n",
    "\n",
    "Rewrite the following math functions in python. For each function, \n",
    "\n",
    "- run `f(A)`\n",
    "- run `fprime(A)`\n",
    "- determine the value of A that gives the maximum/minimum value.\n",
    "\n",
    "_To determine the value of A that brings the derivative to zero (or close to it), use a loop._\n",
    "\n",
    "Your answers should have the following form:\n",
    "\n",
    "```\n",
    "def f(x):\n",
    "    return ...\n",
    "\n",
    "print(f(A))\n",
    "print(fprime(A))\n",
    "\n",
    "for i in range(fprime(A)):\n",
    "  if abs(fprime(A)[i]) < 0.01 and abs(fprime(A)[i])>0:\n",
    "    print(f\"The value in A that gives the max/min value is...(Complete the rest)\")\n",
    "    print(f\"The max/min value in f(A) is ...(Complete the rest)...\")\n",
    "```"
   ]
  },
  {
   "cell_type": "markdown",
   "metadata": {},
   "source": [
    "### Exercise 2.1\n",
    "\n",
    "$$f(x) = -x^{2} - 4x -27$$"
   ]
  },
  {
   "cell_type": "code",
   "execution_count": null,
   "metadata": {},
   "outputs": [],
   "source": [
    "# exercise 2.1\n"
   ]
  },
  {
   "cell_type": "markdown",
   "metadata": {},
   "source": [
    "### Exercise 2.2\n",
    "\n",
    "$$f(x) = x^{2} - 6x + 17$$"
   ]
  },
  {
   "cell_type": "code",
   "execution_count": null,
   "metadata": {},
   "outputs": [],
   "source": [
    "# exercise 2.2\n"
   ]
  },
  {
   "cell_type": "markdown",
   "metadata": {},
   "source": [
    "### Exercise 2.3\n",
    "\n",
    "$$f(x) = x^{4} - 12x^{3} + 54x^{2}-108x + 81$$"
   ]
  },
  {
   "cell_type": "code",
   "execution_count": null,
   "metadata": {},
   "outputs": [],
   "source": [
    "# exercise 2.3"
   ]
  },
  {
   "cell_type": "markdown",
   "metadata": {},
   "source": [
    "## Exercise 3 💪🏽 Calculus / Integration 💪🏽\n",
    "\n",
    "Here is a function that can integrate other functions from points a to b using Riemann's Sum."
   ]
  },
  {
   "cell_type": "code",
   "execution_count": null,
   "metadata": {},
   "outputs": [],
   "source": [
    "def Integrate(a,b):\n",
    "    n = 1000\n",
    "    dx = (b-a)/n\n",
    "    xi = a\n",
    "    sum_ = 0;\n",
    "    for i in range(n):\n",
    "        xi = xi+dx\n",
    "        sum_ = sum_ + f(xi)\n",
    "    print(sum_*dx)"
   ]
  },
  {
   "cell_type": "markdown",
   "metadata": {},
   "source": [
    "Rewrite the following functions in Python, and then integrate each function over the interval `(0,1)`.\n",
    "\n",
    "Hint: Answers should be written like so:\n",
    "\n",
    "```\n",
    "def f(x):\n",
    "    return ...\n",
    "\n",
    "Integrate(0,1)\n",
    "```"
   ]
  },
  {
   "cell_type": "markdown",
   "metadata": {},
   "source": [
    "### Exercise 3.1\n",
    "\n",
    "$$ f(x) = 2x $$"
   ]
  },
  {
   "cell_type": "code",
   "execution_count": null,
   "metadata": {},
   "outputs": [],
   "source": [
    "# exercise 3.1\n"
   ]
  },
  {
   "cell_type": "markdown",
   "metadata": {},
   "source": [
    "### Exercise 3.2\n",
    "\n",
    "$$ f(x) = 5x^2 - 3x$$"
   ]
  },
  {
   "cell_type": "code",
   "execution_count": null,
   "metadata": {},
   "outputs": [],
   "source": [
    "# exercise 3.2\n"
   ]
  },
  {
   "cell_type": "markdown",
   "metadata": {},
   "source": [
    "### Exercise 3.3\n",
    "\n",
    "$$ f(x) = 9x^3 - 2x^2$$"
   ]
  },
  {
   "cell_type": "code",
   "execution_count": null,
   "metadata": {},
   "outputs": [],
   "source": [
    "# exercise 3.3\n"
   ]
  },
  {
   "cell_type": "markdown",
   "metadata": {},
   "source": [
    "## Exercise 4: Linear Algebra\n",
    "\n",
    "Write each of the following systems of equations as a matrix and solve them using the numpy function from the lecture/pre-lecture.\n",
    "\n",
    "HINT:\n",
    "\n",
    "To solve the system for `a`, `b`, and `c`:\n",
    "\n",
    "$$\\begin{bmatrix} 2 & 1 & 2 \\\\ 1 & 5 & 3 \\\\ 4 & 1 & 2 \\end{bmatrix} \\begin{bmatrix} a \\\\ b \\\\ c \\end{bmatrix} = \\begin {bmatrix} 20\\\\ 38\\\\ 26 \\end{bmatrix} $$\n",
    "\n",
    "```\n",
    "Matrix = np.array([[2,1,2], [1,5,3], [4,1,2]])\n",
    "Solutions = np.array([20, 38, 26])\n",
    "x = np.linalg.solve(Matrix, Solutions)\n",
    "x\n",
    "```"
   ]
  },
  {
   "cell_type": "markdown",
   "metadata": {},
   "source": [
    "### Exercise 4.1\n",
    "\n",
    "$$3x + 2y + z = 7$$\n",
    "$$4x + 5y + 2z = 14$$\n",
    "$$2x + 4y + 3z = 10$$\n"
   ]
  },
  {
   "cell_type": "code",
   "execution_count": null,
   "metadata": {},
   "outputs": [],
   "source": [
    "# exercise 4.1\n"
   ]
  },
  {
   "cell_type": "markdown",
   "metadata": {},
   "source": [
    "### Exercise 4.2\n",
    "\n",
    "$$3a + 3b + c = 16$$\n",
    "$$2a + b + 3c = 11$$\n",
    "$$4a + 2b + 5c = 21$$"
   ]
  },
  {
   "cell_type": "code",
   "execution_count": null,
   "metadata": {},
   "outputs": [],
   "source": [
    "# exercise 4.2\n"
   ]
  },
  {
   "cell_type": "markdown",
   "metadata": {},
   "source": [
    "### Exercise 4.3\n",
    "\n",
    "$$4i + 2j + k = 0$$\n",
    "$$5i + j + 3k = 2$$\n",
    "$$3i + 3j + 4k = 8$$"
   ]
  },
  {
   "cell_type": "code",
   "execution_count": null,
   "metadata": {},
   "outputs": [],
   "source": [
    "# exercise 4.3\n"
   ]
  },
  {
   "cell_type": "markdown",
   "metadata": {},
   "source": [
    "## Exercise 5: Is it Prime?\n",
    "\n",
    "A [prime number](https://en.wikipedia.org/wiki/Prime_number) is a number that can only be divided by 1 and by itself. \n",
    "\n",
    "Write a function that takes in a positive integer and returns `True` if it's prime and `False` otherwise.\n",
    "\n",
    "```\n",
    "check_prime(5) -> True\n",
    "check_prime(13) -> True\n",
    "check_prime(9) -> False\n",
    "check_prime(15) -> False\n",
    "```"
   ]
  },
  {
   "cell_type": "code",
   "execution_count": null,
   "metadata": {},
   "outputs": [],
   "source": [
    "# exercise 5\n"
   ]
  },
  {
   "cell_type": "code",
   "execution_count": null,
   "metadata": {},
   "outputs": [],
   "source": []
  }
 ],
 "metadata": {
  "kernelspec": {
   "display_name": "Python 3",
   "language": "python",
   "name": "python3"
  },
  "language_info": {
   "codemirror_mode": {
    "name": "ipython",
    "version": 3
   },
   "file_extension": ".py",
   "mimetype": "text/x-python",
   "name": "python",
   "nbconvert_exporter": "python",
   "pygments_lexer": "ipython3",
   "version": "3.8.8"
  },
  "metadata": {
   "interpreter": {
    "hash": "63fd5069d213b44bf678585dea6b12cceca9941eaf7f819626cde1f2670de90d"
   }
  }
 },
 "nbformat": 4,
 "nbformat_minor": 2
}
